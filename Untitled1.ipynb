{
  "nbformat": 4,
  "nbformat_minor": 0,
  "metadata": {
    "colab": {
      "provenance": [],
      "toc_visible": true,
      "authorship_tag": "ABX9TyMkS2k4fgyjN96wrrw+5/yN",
      "include_colab_link": true
    },
    "kernelspec": {
      "name": "python3",
      "display_name": "Python 3"
    },
    "language_info": {
      "name": "python"
    }
  },
  "cells": [
    {
      "cell_type": "markdown",
      "metadata": {
        "id": "view-in-github",
        "colab_type": "text"
      },
      "source": [
        "<a href=\"https://colab.research.google.com/github/sinchanayj/Hacktoberfest2022-1/blob/main/Untitled1.ipynb\" target=\"_parent\"><img src=\"https://colab.research.google.com/assets/colab-badge.svg\" alt=\"Open In Colab\"/></a>"
      ]
    },
    {
      "cell_type": "markdown",
      "source": [
        "Data types\n",
        "Numbers\n",
        "\n"
      ],
      "metadata": {
        "id": "PpAzWTbHEcUI"
      }
    },
    {
      "cell_type": "code",
      "source": [
        "1 +  1    #addition"
      ],
      "metadata": {
        "colab": {
          "base_uri": "https://localhost:8080/"
        },
        "id": "_Y8BWQDWEoqi",
        "outputId": "70ef75d4-5c6e-437f-e341-2101af4aba00"
      },
      "execution_count": 1,
      "outputs": [
        {
          "output_type": "execute_result",
          "data": {
            "text/plain": [
              "2"
            ]
          },
          "metadata": {},
          "execution_count": 1
        }
      ]
    },
    {
      "cell_type": "code",
      "source": [
        "1 * 3"
      ],
      "metadata": {
        "id": "7qn6Yid8ct6h",
        "colab": {
          "base_uri": "https://localhost:8080/"
        },
        "outputId": "6c3aba74-2bbf-49f5-fe71-a54e42e9f8aa"
      },
      "execution_count": 3,
      "outputs": [
        {
          "output_type": "execute_result",
          "data": {
            "text/plain": [
              "3"
            ]
          },
          "metadata": {},
          "execution_count": 3
        }
      ]
    },
    {
      "cell_type": "code",
      "source": [
        "1 / 2"
      ],
      "metadata": {
        "colab": {
          "base_uri": "https://localhost:8080/"
        },
        "id": "XYkaLMTfE9g6",
        "outputId": "ad8b2e7d-d7b7-45cd-f001-b7cd846c9905"
      },
      "execution_count": 4,
      "outputs": [
        {
          "output_type": "execute_result",
          "data": {
            "text/plain": [
              "0.5"
            ]
          },
          "metadata": {},
          "execution_count": 4
        }
      ]
    },
    {
      "cell_type": "code",
      "source": [
        "2 ** 4"
      ],
      "metadata": {
        "colab": {
          "base_uri": "https://localhost:8080/"
        },
        "id": "02VbfDoeFB-r",
        "outputId": "f15346fe-bf08-497c-f0cc-d28a85837f51"
      },
      "execution_count": 5,
      "outputs": [
        {
          "output_type": "execute_result",
          "data": {
            "text/plain": [
              "16"
            ]
          },
          "metadata": {},
          "execution_count": 5
        }
      ]
    },
    {
      "cell_type": "code",
      "source": [
        "\n",
        "4 % 2"
      ],
      "metadata": {
        "colab": {
          "base_uri": "https://localhost:8080/"
        },
        "id": "xK3bNkdxFGPC",
        "outputId": "8c6f64b4-1c5f-4c4f-9bc2-904ff1a208dc"
      },
      "execution_count": 6,
      "outputs": [
        {
          "output_type": "execute_result",
          "data": {
            "text/plain": [
              "0"
            ]
          },
          "metadata": {},
          "execution_count": 6
        }
      ]
    },
    {
      "cell_type": "code",
      "source": [
        "5 % 2"
      ],
      "metadata": {
        "colab": {
          "base_uri": "https://localhost:8080/"
        },
        "id": "Glhd3wYPFMjC",
        "outputId": "4342b7e7-307e-4768-8653-b0c10ecba199"
      },
      "execution_count": 7,
      "outputs": [
        {
          "output_type": "execute_result",
          "data": {
            "text/plain": [
              "1"
            ]
          },
          "metadata": {},
          "execution_count": 7
        }
      ]
    },
    {
      "cell_type": "code",
      "source": [
        "\n",
        "(2 + 3) * (5 + 5)"
      ],
      "metadata": {
        "colab": {
          "base_uri": "https://localhost:8080/"
        },
        "id": "BvNlDNJHFRGS",
        "outputId": "dc609119-1906-4753-bf8e-d73914dffbde"
      },
      "execution_count": 8,
      "outputs": [
        {
          "output_type": "execute_result",
          "data": {
            "text/plain": [
              "50"
            ]
          },
          "metadata": {},
          "execution_count": 8
        }
      ]
    },
    {
      "cell_type": "markdown",
      "source": [
        "Variable Assignment\n"
      ],
      "metadata": {
        "id": "QyjM5cu4FZUE"
      }
    },
    {
      "cell_type": "code",
      "source": [
        "# Can not start with number or special characters\n",
        "name_of_var = 2"
      ],
      "metadata": {
        "id": "bAg8rEbkFbZb"
      },
      "execution_count": null,
      "outputs": []
    },
    {
      "cell_type": "code",
      "source": [
        "x = 2\n",
        "y = 3"
      ],
      "metadata": {
        "id": "1j-hSrm4Fm7c"
      },
      "execution_count": 9,
      "outputs": []
    },
    {
      "cell_type": "code",
      "source": [
        "\n",
        "z = x + y"
      ],
      "metadata": {
        "id": "ZkXEqR-WFv1l"
      },
      "execution_count": 10,
      "outputs": []
    },
    {
      "cell_type": "code",
      "source": [
        "z"
      ],
      "metadata": {
        "colab": {
          "base_uri": "https://localhost:8080/"
        },
        "id": "lOIzCh4pF0l-",
        "outputId": "80885505-3096-4db2-bb99-6bdd9e7dff88"
      },
      "execution_count": 11,
      "outputs": [
        {
          "output_type": "execute_result",
          "data": {
            "text/plain": [
              "5"
            ]
          },
          "metadata": {},
          "execution_count": 11
        }
      ]
    },
    {
      "cell_type": "markdown",
      "source": [
        "Strings\n"
      ],
      "metadata": {
        "id": "djhnZQ6vF5f3"
      }
    },
    {
      "cell_type": "code",
      "source": [
        "\n",
        "'single quotes'"
      ],
      "metadata": {
        "colab": {
          "base_uri": "https://localhost:8080/",
          "height": 36
        },
        "id": "A-d79brFF6hg",
        "outputId": "15f0e13a-d4d0-4d8b-fa06-748411b39cc2"
      },
      "execution_count": 12,
      "outputs": [
        {
          "output_type": "execute_result",
          "data": {
            "text/plain": [
              "'single quotes'"
            ],
            "application/vnd.google.colaboratory.intrinsic+json": {
              "type": "string"
            }
          },
          "metadata": {},
          "execution_count": 12
        }
      ]
    },
    {
      "cell_type": "code",
      "source": [
        "\"double quotes\""
      ],
      "metadata": {
        "colab": {
          "base_uri": "https://localhost:8080/",
          "height": 36
        },
        "id": "1y-oyCeFF__m",
        "outputId": "1ce2e653-89da-4359-e7ef-c2ef79a39ec2"
      },
      "execution_count": 13,
      "outputs": [
        {
          "output_type": "execute_result",
          "data": {
            "text/plain": [
              "'double quotes'"
            ],
            "application/vnd.google.colaboratory.intrinsic+json": {
              "type": "string"
            }
          },
          "metadata": {},
          "execution_count": 13
        }
      ]
    },
    {
      "cell_type": "code",
      "source": [
        "\" wrap lot's of other quotes\""
      ],
      "metadata": {
        "colab": {
          "base_uri": "https://localhost:8080/",
          "height": 36
        },
        "id": "DNh7jjunGEjo",
        "outputId": "449cca61-5f92-4ad9-c1df-5cadf83c54a7"
      },
      "execution_count": 14,
      "outputs": [
        {
          "output_type": "execute_result",
          "data": {
            "text/plain": [
              "\" wrap lot's of other quotes\""
            ],
            "application/vnd.google.colaboratory.intrinsic+json": {
              "type": "string"
            }
          },
          "metadata": {},
          "execution_count": 14
        }
      ]
    },
    {
      "cell_type": "markdown",
      "source": [
        "Printing\n"
      ],
      "metadata": {
        "id": "vXzbTOR2GLLd"
      }
    },
    {
      "cell_type": "code",
      "source": [
        "\n",
        "x = 'hello'"
      ],
      "metadata": {
        "id": "FhcydfvtGMIi"
      },
      "execution_count": 22,
      "outputs": []
    },
    {
      "cell_type": "code",
      "source": [
        "x"
      ],
      "metadata": {
        "colab": {
          "base_uri": "https://localhost:8080/",
          "height": 36
        },
        "id": "R1bOhpRzGO39",
        "outputId": "cd5d7298-1b74-4284-fefe-4c92313cc084"
      },
      "execution_count": 24,
      "outputs": [
        {
          "output_type": "execute_result",
          "data": {
            "text/plain": [
              "'hello'"
            ],
            "application/vnd.google.colaboratory.intrinsic+json": {
              "type": "string"
            }
          },
          "metadata": {},
          "execution_count": 24
        }
      ]
    },
    {
      "cell_type": "code",
      "source": [
        "[]print(x)"
      ],
      "metadata": {
        "id": "2h_wri6GFqEt"
      },
      "execution_count": null,
      "outputs": []
    },
    {
      "cell_type": "code",
      "source": [
        "num = 12\n",
        "name = 'Sam'"
      ],
      "metadata": {
        "id": "PaJs-a4_G9rM"
      },
      "execution_count": 20,
      "outputs": []
    },
    {
      "cell_type": "code",
      "source": [
        "print('My number is: {one}, and my name is: {two}'.format(one=num,two=name))"
      ],
      "metadata": {
        "colab": {
          "base_uri": "https://localhost:8080/"
        },
        "id": "IeWH6zYlHGO7",
        "outputId": "25e1983d-dedb-4cf9-ec1c-ebbd8e6c6f83"
      },
      "execution_count": 21,
      "outputs": [
        {
          "output_type": "stream",
          "name": "stdout",
          "text": [
            "My number is: 12, and my name is: Sam\n"
          ]
        }
      ]
    },
    {
      "cell_type": "code",
      "source": [
        "print('My number is: {}, and my name is: {}'.format(num,name))"
      ],
      "metadata": {
        "colab": {
          "base_uri": "https://localhost:8080/"
        },
        "id": "tf_zwu8OHYPR",
        "outputId": "07c95dca-bc09-4cc6-8031-b5bb09ec41bc"
      },
      "execution_count": 26,
      "outputs": [
        {
          "output_type": "stream",
          "name": "stdout",
          "text": [
            "My number is: 12, and my name is: Sam\n"
          ]
        }
      ]
    },
    {
      "cell_type": "markdown",
      "source": [
        "Lists\n"
      ],
      "metadata": {
        "id": "ZhEBN3jFHfCu"
      }
    },
    {
      "cell_type": "markdown",
      "source": [
        "https://www.w3schools.com/python/python_lists.asp"
      ],
      "metadata": {
        "id": "tWgi4pCUHgsa"
      }
    },
    {
      "cell_type": "code",
      "source": [
        "[1,2,3]"
      ],
      "metadata": {
        "colab": {
          "base_uri": "https://localhost:8080/"
        },
        "id": "axQ-gU-WHyUO",
        "outputId": "ddd7104a-3ac1-40dc-cf7d-8afced6e25b0"
      },
      "execution_count": 27,
      "outputs": [
        {
          "output_type": "execute_result",
          "data": {
            "text/plain": [
              "[1, 2, 3]"
            ]
          },
          "metadata": {},
          "execution_count": 27
        }
      ]
    },
    {
      "cell_type": "code",
      "source": [
        "['hi',1,[1,2]]"
      ],
      "metadata": {
        "colab": {
          "base_uri": "https://localhost:8080/"
        },
        "id": "OQ4AmstYH2WC",
        "outputId": "47aaaae4-5661-4015-f385-1ef26809759b"
      },
      "execution_count": 28,
      "outputs": [
        {
          "output_type": "execute_result",
          "data": {
            "text/plain": [
              "['hi', 1, [1, 2]]"
            ]
          },
          "metadata": {},
          "execution_count": 28
        }
      ]
    },
    {
      "cell_type": "code",
      "source": [
        "\n",
        "my_list = ['a','b','c']"
      ],
      "metadata": {
        "id": "BXW-KhYGH2go"
      },
      "execution_count": 30,
      "outputs": []
    },
    {
      "cell_type": "code",
      "source": [
        "my_list.append('d')"
      ],
      "metadata": {
        "id": "doNwfhFlH2ov"
      },
      "execution_count": 31,
      "outputs": []
    },
    {
      "cell_type": "code",
      "source": [
        "my_list"
      ],
      "metadata": {
        "colab": {
          "base_uri": "https://localhost:8080/"
        },
        "id": "YjAkyZ1bIDFN",
        "outputId": "196f0e17-51ec-44f4-d9ba-4392c0876a90"
      },
      "execution_count": 32,
      "outputs": [
        {
          "output_type": "execute_result",
          "data": {
            "text/plain": [
              "['a', 'b', 'c', 'd']"
            ]
          },
          "metadata": {},
          "execution_count": 32
        }
      ]
    },
    {
      "cell_type": "code",
      "source": [
        "my_list[0]"
      ],
      "metadata": {
        "colab": {
          "base_uri": "https://localhost:8080/",
          "height": 36
        },
        "id": "W9Yp8ZnWIDQG",
        "outputId": "c5596dbe-28e6-47d8-cae6-ef6733446f24"
      },
      "execution_count": 33,
      "outputs": [
        {
          "output_type": "execute_result",
          "data": {
            "text/plain": [
              "'a'"
            ],
            "application/vnd.google.colaboratory.intrinsic+json": {
              "type": "string"
            }
          },
          "metadata": {},
          "execution_count": 33
        }
      ]
    },
    {
      "cell_type": "code",
      "source": [
        "\n",
        "my_list[1]"
      ],
      "metadata": {
        "colab": {
          "base_uri": "https://localhost:8080/",
          "height": 36
        },
        "id": "7SJOXxVWIDak",
        "outputId": "0a5ab60c-ca34-430e-82ed-ebfc53f34254"
      },
      "execution_count": 34,
      "outputs": [
        {
          "output_type": "execute_result",
          "data": {
            "text/plain": [
              "'b'"
            ],
            "application/vnd.google.colaboratory.intrinsic+json": {
              "type": "string"
            }
          },
          "metadata": {},
          "execution_count": 34
        }
      ]
    },
    {
      "cell_type": "code",
      "source": [
        "my_list[:1]"
      ],
      "metadata": {
        "colab": {
          "base_uri": "https://localhost:8080/"
        },
        "id": "yTEcV2AsIRYT",
        "outputId": "5b31c81c-0292-47d0-f4d4-c7d325c8e886"
      },
      "execution_count": 35,
      "outputs": [
        {
          "output_type": "execute_result",
          "data": {
            "text/plain": [
              "['a']"
            ]
          },
          "metadata": {},
          "execution_count": 35
        }
      ]
    },
    {
      "cell_type": "code",
      "source": [
        "\n",
        "my_list[0] = 'NEW'"
      ],
      "metadata": {
        "id": "vFOKa3MkIRd5"
      },
      "execution_count": 36,
      "outputs": []
    },
    {
      "cell_type": "code",
      "source": [
        "list(range(5))\n",
        "     "
      ],
      "metadata": {
        "colab": {
          "base_uri": "https://localhost:8080/"
        },
        "id": "V_M5guiJIRiy",
        "outputId": "03cd31d2-e223-4781-d6ff-b59e05e09c53"
      },
      "execution_count": 37,
      "outputs": [
        {
          "output_type": "execute_result",
          "data": {
            "text/plain": [
              "[0, 1, 2, 3, 4]"
            ]
          },
          "metadata": {},
          "execution_count": 37
        }
      ]
    },
    {
      "cell_type": "code",
      "source": [
        "\n",
        "my_list"
      ],
      "metadata": {
        "colab": {
          "base_uri": "https://localhost:8080/"
        },
        "id": "fLdWiBfNIRtn",
        "outputId": "03f78dd4-5642-4101-9954-d7282d9ad577"
      },
      "execution_count": 38,
      "outputs": [
        {
          "output_type": "execute_result",
          "data": {
            "text/plain": [
              "['NEW', 'b', 'c', 'd']"
            ]
          },
          "metadata": {},
          "execution_count": 38
        }
      ]
    },
    {
      "cell_type": "code",
      "source": [
        "nest = [1,2,3,[4,5,['target']]]"
      ],
      "metadata": {
        "id": "xwzFm7TXIk1B"
      },
      "execution_count": 40,
      "outputs": []
    },
    {
      "cell_type": "code",
      "source": [
        "\n",
        "nest[3]"
      ],
      "metadata": {
        "colab": {
          "base_uri": "https://localhost:8080/"
        },
        "id": "nBRqcYxcIk3s",
        "outputId": "ed4802d4-85e8-442d-fa4d-7c9a4ee17400"
      },
      "execution_count": 41,
      "outputs": [
        {
          "output_type": "execute_result",
          "data": {
            "text/plain": [
              "[4, 5, ['target']]"
            ]
          },
          "metadata": {},
          "execution_count": 41
        }
      ]
    },
    {
      "cell_type": "code",
      "source": [
        "\n",
        "nest[3][2]"
      ],
      "metadata": {
        "colab": {
          "base_uri": "https://localhost:8080/"
        },
        "id": "toAOMEG2Ik7B",
        "outputId": "3f58c6a4-ab87-4cf9-8c55-9678a97c7289"
      },
      "execution_count": 42,
      "outputs": [
        {
          "output_type": "execute_result",
          "data": {
            "text/plain": [
              "['target']"
            ]
          },
          "metadata": {},
          "execution_count": 42
        }
      ]
    },
    {
      "cell_type": "code",
      "source": [
        "nest[3][2][0]"
      ],
      "metadata": {
        "colab": {
          "base_uri": "https://localhost:8080/",
          "height": 36
        },
        "id": "_gSqrDDXI5Bv",
        "outputId": "a9a3e043-443b-4633-ceb6-ac2cf0132972"
      },
      "execution_count": 43,
      "outputs": [
        {
          "output_type": "execute_result",
          "data": {
            "text/plain": [
              "'target'"
            ],
            "application/vnd.google.colaboratory.intrinsic+json": {
              "type": "string"
            }
          },
          "metadata": {},
          "execution_count": 43
        }
      ]
    },
    {
      "cell_type": "markdown",
      "source": [
        "Dictionaries"
      ],
      "metadata": {
        "id": "WJtyNmqSJE63"
      }
    },
    {
      "cell_type": "markdown",
      "source": [
        "https://www.w3schools.com/python/python_dictionaries.asp"
      ],
      "metadata": {
        "id": "tD_7fluoJIY7"
      }
    },
    {
      "cell_type": "code",
      "source": [
        "\n",
        "d = {'key1':'item1','key2':'item2'}"
      ],
      "metadata": {
        "id": "8LW7J6xAI5Q9"
      },
      "execution_count": 44,
      "outputs": []
    },
    {
      "cell_type": "code",
      "source": [
        "\n",
        "d"
      ],
      "metadata": {
        "colab": {
          "base_uri": "https://localhost:8080/"
        },
        "id": "Wrns3RGxI6BQ",
        "outputId": "ddcc8535-1013-49a4-dca4-3c1e0188e614"
      },
      "execution_count": 45,
      "outputs": [
        {
          "output_type": "execute_result",
          "data": {
            "text/plain": [
              "{'key1': 'item1', 'key2': 'item2'}"
            ]
          },
          "metadata": {},
          "execution_count": 45
        }
      ]
    },
    {
      "cell_type": "code",
      "source": [
        "d['key1']"
      ],
      "metadata": {
        "colab": {
          "base_uri": "https://localhost:8080/",
          "height": 36
        },
        "id": "LdEtWPnAKlcq",
        "outputId": "1ce2f81d-f70b-4e05-cbaf-4fd75e9c0428"
      },
      "execution_count": 46,
      "outputs": [
        {
          "output_type": "execute_result",
          "data": {
            "text/plain": [
              "'item1'"
            ],
            "application/vnd.google.colaboratory.intrinsic+json": {
              "type": "string"
            }
          },
          "metadata": {},
          "execution_count": 46
        }
      ]
    },
    {
      "cell_type": "markdown",
      "source": [
        "Tuples"
      ],
      "metadata": {
        "id": "ipwxS_HhKpkg"
      }
    },
    {
      "cell_type": "markdown",
      "source": [
        "https://www.w3schools.com/python/python_tuples.asp"
      ],
      "metadata": {
        "id": "oh5vA9xdKw8g"
      }
    },
    {
      "cell_type": "code",
      "source": [
        "\n",
        "t = (1,2,3)"
      ],
      "metadata": {
        "id": "amR08MAmK0A4"
      },
      "execution_count": 47,
      "outputs": []
    },
    {
      "cell_type": "code",
      "source": [
        "t[0]"
      ],
      "metadata": {
        "colab": {
          "base_uri": "https://localhost:8080/"
        },
        "id": "NemuO8UaK4LL",
        "outputId": "783af8b8-ad66-44a0-cd2b-4d3896310b23"
      },
      "execution_count": 48,
      "outputs": [
        {
          "output_type": "execute_result",
          "data": {
            "text/plain": [
              "1"
            ]
          },
          "metadata": {},
          "execution_count": 48
        }
      ]
    },
    {
      "cell_type": "code",
      "source": [
        "t[0] ='NEW'\n"
      ],
      "metadata": {
        "id": "PDH0rfyIK-Bu"
      },
      "execution_count": null,
      "outputs": []
    },
    {
      "cell_type": "markdown",
      "source": [
        "\n",
        "TypeError Traceback (most recent call last) in () 1 ----> 2 t[0] = 'NEW' #A tuple is a unchangeable, so you will get an error\n",
        "\n",
        "TypeError: 'tuple' object does not support item assignment"
      ],
      "metadata": {
        "id": "Dy61LgT3LTln"
      }
    },
    {
      "cell_type": "markdown",
      "source": [
        "if,elif, else Statements"
      ],
      "metadata": {
        "id": "zhOOoZvrLaVF"
      }
    },
    {
      "cell_type": "code",
      "source": [
        "\n",
        "if 1 < 2:\n",
        "    print('Yep!')"
      ],
      "metadata": {
        "colab": {
          "base_uri": "https://localhost:8080/"
        },
        "id": "tUY5r_wuLbsz",
        "outputId": "b352458f-4c07-4ad9-eec2-1a669e06e9bc"
      },
      "execution_count": 53,
      "outputs": [
        {
          "output_type": "stream",
          "name": "stdout",
          "text": [
            "Yep!\n"
          ]
        }
      ]
    },
    {
      "cell_type": "code",
      "source": [
        "\n",
        "if 1 < 2:\n",
        "    print('yep!')"
      ],
      "metadata": {
        "colab": {
          "base_uri": "https://localhost:8080/"
        },
        "id": "pMM0mw-dLff_",
        "outputId": "005ef65a-2e5d-4f12-b15f-deda2fc02653"
      },
      "execution_count": 54,
      "outputs": [
        {
          "output_type": "stream",
          "name": "stdout",
          "text": [
            "yep!\n"
          ]
        }
      ]
    },
    {
      "cell_type": "code",
      "source": [
        "if 1 < 2:\n",
        "    print('first')\n",
        "else:\n",
        "    print('last')"
      ],
      "metadata": {
        "colab": {
          "base_uri": "https://localhost:8080/"
        },
        "id": "MUq-bh3ZLfpz",
        "outputId": "dffc048a-73c0-4eac-b8eb-55ed2291e27c"
      },
      "execution_count": 55,
      "outputs": [
        {
          "output_type": "stream",
          "name": "stdout",
          "text": [
            "first\n"
          ]
        }
      ]
    },
    {
      "cell_type": "code",
      "source": [
        "\n",
        "if 1 > 2:\n",
        "    print('first')\n",
        "else:\n",
        "    print('last')"
      ],
      "metadata": {
        "colab": {
          "base_uri": "https://localhost:8080/"
        },
        "id": "T15jTq5hLfyZ",
        "outputId": "4bcc0054-fd65-4fc8-ce81-4146ca297d8d"
      },
      "execution_count": 56,
      "outputs": [
        {
          "output_type": "stream",
          "name": "stdout",
          "text": [
            "last\n"
          ]
        }
      ]
    },
    {
      "cell_type": "code",
      "source": [
        "\n",
        "if 1 == 2:\n",
        "    print('first')\n",
        "elif 3 == 3:\n",
        "    print('middle')\n",
        "else:\n",
        "    print('Last')"
      ],
      "metadata": {
        "colab": {
          "base_uri": "https://localhost:8080/"
        },
        "id": "l9_JjAe_Lf5a",
        "outputId": "28058572-f0d7-486d-be3c-6720a4c013d1"
      },
      "execution_count": 57,
      "outputs": [
        {
          "output_type": "stream",
          "name": "stdout",
          "text": [
            "middle\n"
          ]
        }
      ]
    },
    {
      "cell_type": "markdown",
      "source": [
        "list comprehension\n"
      ],
      "metadata": {
        "id": "wQDkjamxLvfc"
      }
    },
    {
      "cell_type": "code",
      "source": [
        "\n",
        "x = [1,2,3,4]"
      ],
      "metadata": {
        "id": "mN7Ud26LLyYn"
      },
      "execution_count": 58,
      "outputs": []
    },
    {
      "cell_type": "code",
      "source": [
        "out = []\n",
        "for item in x:\n",
        "    out.append(item**2)\n",
        "print(out)"
      ],
      "metadata": {
        "colab": {
          "base_uri": "https://localhost:8080/"
        },
        "id": "BlASLJejL4Pe",
        "outputId": "76ecce9a-fb75-450c-a4ad-27770514c0d1"
      },
      "execution_count": 59,
      "outputs": [
        {
          "output_type": "stream",
          "name": "stdout",
          "text": [
            "[1, 4, 9, 16]\n"
          ]
        }
      ]
    },
    {
      "cell_type": "code",
      "source": [
        "\n",
        "[item**2 for item in x]"
      ],
      "metadata": {
        "colab": {
          "base_uri": "https://localhost:8080/"
        },
        "id": "5ZdbjSM3MJPp",
        "outputId": "9721e376-07df-45d7-e4ef-6ccec03cb079"
      },
      "execution_count": 63,
      "outputs": [
        {
          "output_type": "execute_result",
          "data": {
            "text/plain": [
              "[1, 4, 9, 16]"
            ]
          },
          "metadata": {},
          "execution_count": 63
        }
      ]
    },
    {
      "cell_type": "code",
      "source": [
        "\n",
        "a = (\"John\", \"Charles\", \"Mike\")\n",
        "b = (\"Jenny\", \"Christy\", \"Monica\")\n",
        "\n",
        "x = zip(a, b)\n",
        "\n",
        "#use the tuple() function to display a readable version of the result:\n",
        "\n",
        "print(tuple(x))"
      ],
      "metadata": {
        "colab": {
          "base_uri": "https://localhost:8080/"
        },
        "id": "ibd77MtMMN4g",
        "outputId": "c7fd3124-4608-480d-8033-6e8190257aa9"
      },
      "execution_count": 64,
      "outputs": [
        {
          "output_type": "stream",
          "name": "stdout",
          "text": [
            "(('John', 'Jenny'), ('Charles', 'Christy'), ('Mike', 'Monica'))\n"
          ]
        }
      ]
    },
    {
      "cell_type": "code",
      "source": [
        "\n",
        "players = [ \"Sachin\", \"Sehwag\", \"Gambhir\", \"Dravid\", \"Raina\" ] \n",
        "  \n",
        "# initializing their scores \n",
        "scores = [100, 15, 17, 28, 43 ] \n",
        "  \n",
        "# printing players and scores. \n",
        "for pl, sc in zip(players, scores): \n",
        "    print (\"Player :  %s     Score : %d\" %(pl, sc)) "
      ],
      "metadata": {
        "colab": {
          "base_uri": "https://localhost:8080/"
        },
        "id": "ipcRH8_gMRLI",
        "outputId": "4320ce05-612e-4267-ddaf-c25a3add1200"
      },
      "execution_count": 65,
      "outputs": [
        {
          "output_type": "stream",
          "name": "stdout",
          "text": [
            "Player :  Sachin     Score : 100\n",
            "Player :  Sehwag     Score : 15\n",
            "Player :  Gambhir     Score : 17\n",
            "Player :  Dravid     Score : 28\n",
            "Player :  Raina     Score : 43\n"
          ]
        }
      ]
    },
    {
      "cell_type": "code",
      "source": [
        "\n",
        "def my_func(param1='default'):\n",
        "    \"\"\"\n",
        "    Docstring goes here.\n",
        "    \"\"\"\n",
        "    print(param1)"
      ],
      "metadata": {
        "id": "0GS7J7OlMUCX"
      },
      "execution_count": 66,
      "outputs": []
    },
    {
      "cell_type": "code",
      "source": [
        "my_func"
      ],
      "metadata": {
        "id": "_9hx8pR5MZKS"
      },
      "execution_count": null,
      "outputs": []
    },
    {
      "cell_type": "code",
      "source": [
        "my_func()"
      ],
      "metadata": {
        "id": "k_kt374xMc8J"
      },
      "execution_count": null,
      "outputs": []
    },
    {
      "cell_type": "markdown",
      "source": [
        "default"
      ],
      "metadata": {
        "id": "7d5hcUWHMz6_"
      }
    },
    {
      "cell_type": "code",
      "source": [
        "\n",
        "my_func('new param')"
      ],
      "metadata": {
        "id": "uz5ClJIeMg1o"
      },
      "execution_count": null,
      "outputs": []
    },
    {
      "cell_type": "markdown",
      "source": [
        "new param"
      ],
      "metadata": {
        "id": "WHGxN869M55k"
      }
    },
    {
      "cell_type": "code",
      "source": [
        "my_func(param1='new param')"
      ],
      "metadata": {
        "id": "mjJDAwQVMlE7"
      },
      "execution_count": null,
      "outputs": []
    },
    {
      "cell_type": "markdown",
      "source": [
        "new param"
      ],
      "metadata": {
        "id": "KVuvPPeMM8st"
      }
    },
    {
      "cell_type": "code",
      "source": [
        "\n",
        "def square(x):\n",
        "    return x**2"
      ],
      "metadata": {
        "id": "Cu9De-eKMpB4"
      },
      "execution_count": 71,
      "outputs": []
    },
    {
      "cell_type": "code",
      "source": [
        "out = square(2)"
      ],
      "metadata": {
        "id": "MnV0b_jTMrya"
      },
      "execution_count": 72,
      "outputs": []
    },
    {
      "cell_type": "code",
      "source": [
        "print(out)"
      ],
      "metadata": {
        "colab": {
          "base_uri": "https://localhost:8080/"
        },
        "id": "lW9gHk6eMux0",
        "outputId": "05f4cbac-1cd5-4324-dc4c-f3eb31c76e43"
      },
      "execution_count": 73,
      "outputs": [
        {
          "output_type": "stream",
          "name": "stdout",
          "text": [
            "4\n"
          ]
        }
      ]
    },
    {
      "cell_type": "markdown",
      "source": [
        "lambda expressions"
      ],
      "metadata": {
        "id": "9WCDPRYWM_ig"
      }
    },
    {
      "cell_type": "markdown",
      "source": [
        "https://www.w3schools.com/python/python_lambda.asp"
      ],
      "metadata": {
        "id": "7oyzGIrcNFLE"
      }
    },
    {
      "cell_type": "code",
      "source": [
        "\n",
        "def times2(var):\n",
        "    return var*2"
      ],
      "metadata": {
        "id": "JRwTSen5NGTO"
      },
      "execution_count": 74,
      "outputs": []
    },
    {
      "cell_type": "code",
      "source": [
        "times2(2)"
      ],
      "metadata": {
        "colab": {
          "base_uri": "https://localhost:8080/"
        },
        "id": "el0tYnKuNGWX",
        "outputId": "15efa849-893a-4f43-b666-74cb132f4eff"
      },
      "execution_count": 75,
      "outputs": [
        {
          "output_type": "execute_result",
          "data": {
            "text/plain": [
              "4"
            ]
          },
          "metadata": {},
          "execution_count": 75
        }
      ]
    },
    {
      "cell_type": "code",
      "source": [
        "\n",
        "lambda var: var*2"
      ],
      "metadata": {
        "colab": {
          "base_uri": "https://localhost:8080/"
        },
        "id": "hseWt10lNGZp",
        "outputId": "b4d844d9-8a7e-497c-b86b-d4cf23d773c4"
      },
      "execution_count": 77,
      "outputs": [
        {
          "output_type": "execute_result",
          "data": {
            "text/plain": [
              "<function __main__.<lambda>(var)>"
            ]
          },
          "metadata": {},
          "execution_count": 77
        }
      ]
    },
    {
      "cell_type": "markdown",
      "source": [
        "Exercises"
      ],
      "metadata": {
        "id": "c0EyYiOGNWLt"
      }
    },
    {
      "cell_type": "markdown",
      "source": [
        "Answer the questions or complete the tasks outlined in bold below, use the specific method described if applicable."
      ],
      "metadata": {
        "id": "IYbpeGz_NbFs"
      }
    },
    {
      "cell_type": "markdown",
      "source": [
        "** What is 7 to the power of 4?**"
      ],
      "metadata": {
        "id": "mi1p8zgCNeTo"
      }
    },
    {
      "cell_type": "code",
      "source": [],
      "metadata": {
        "id": "Mzih64uONlMR"
      },
      "execution_count": 77,
      "outputs": []
    },
    {
      "cell_type": "markdown",
      "source": [
        "2401"
      ],
      "metadata": {
        "id": "teKxS71BNomp"
      }
    },
    {
      "cell_type": "markdown",
      "source": [
        "** Split this string:**"
      ],
      "metadata": {
        "id": "kuSfBCQPNuBX"
      }
    },
    {
      "cell_type": "code",
      "source": [
        "\n",
        "s = \"Hi there Sam!\""
      ],
      "metadata": {
        "id": "lEN3QTE_Ny8A"
      },
      "execution_count": 78,
      "outputs": []
    },
    {
      "cell_type": "markdown",
      "source": [
        "into a list."
      ],
      "metadata": {
        "id": "sstpfbQMN7eK"
      }
    },
    {
      "cell_type": "code",
      "source": [],
      "metadata": {
        "id": "k8zm77q8ODSv"
      },
      "execution_count": 79,
      "outputs": []
    },
    {
      "cell_type": "code",
      "source": [
        "\n",
        "print(lst)"
      ],
      "metadata": {
        "id": "VWtTdPkJN9u3"
      },
      "execution_count": null,
      "outputs": []
    },
    {
      "cell_type": "markdown",
      "source": [
        "** Given the variables:**\n",
        "\n"
      ],
      "metadata": {
        "id": "i2kQy1DLOJfR"
      }
    },
    {
      "cell_type": "code",
      "source": [
        "\n",
        "planet = \"Earth\"\n",
        "diameter = 12742"
      ],
      "metadata": {
        "id": "Zq_3UPnGONB1"
      },
      "execution_count": 81,
      "outputs": []
    },
    {
      "cell_type": "markdown",
      "source": [
        "** Use .format() to print the following string: **\n",
        "\n"
      ],
      "metadata": {
        "id": "FEe4Hk21OQ-S"
      }
    },
    {
      "cell_type": "code",
      "source": [
        "\n",
        "The diameter of Earth is 12742 kilometers."
      ],
      "metadata": {
        "id": "qoEOt8kWOTfp"
      },
      "execution_count": null,
      "outputs": []
    },
    {
      "cell_type": "code",
      "source": [
        "\n",
        "planet = \"Earth\"\n",
        "diameter = 12742"
      ],
      "metadata": {
        "id": "cnyYS6NIOY7N"
      },
      "execution_count": 83,
      "outputs": []
    },
    {
      "cell_type": "markdown",
      "source": [
        "The diameter of Earth is 12742 kilometers.\n",
        "\n",
        "** Given this nested list, use indexing to grab the word \"hello\" **"
      ],
      "metadata": {
        "id": "QhGTuDLxOgPY"
      }
    },
    {
      "cell_type": "code",
      "source": [
        "lst = [1,2,[3,4],[5,[100,200,['hello']],23,11],1,7]"
      ],
      "metadata": {
        "id": "E4mDUolOOlVD"
      },
      "execution_count": 84,
      "outputs": []
    },
    {
      "cell_type": "code",
      "source": [],
      "metadata": {
        "id": "XVb0GtSpOoxp"
      },
      "execution_count": 84,
      "outputs": []
    },
    {
      "cell_type": "markdown",
      "source": [
        "'hello'"
      ],
      "metadata": {
        "id": "6eMK4VGOOrge"
      }
    },
    {
      "cell_type": "markdown",
      "source": [
        "** Given this nested dictionary grab the word \"hello\". Be prepared, this will be annoying/tricky **"
      ],
      "metadata": {
        "id": "VMTZ0IfROvzN"
      }
    },
    {
      "cell_type": "code",
      "source": [
        "\n",
        "d = {'k1':[1,2,3,{'tricky':['oh','man','inception',{'target':[1,2,3,'hello']}]}]}"
      ],
      "metadata": {
        "id": "qnj3AbuFOyfT"
      },
      "execution_count": 85,
      "outputs": []
    },
    {
      "cell_type": "markdown",
      "source": [
        "'hello'"
      ],
      "metadata": {
        "id": "P1Bjvej7O4Du"
      }
    },
    {
      "cell_type": "markdown",
      "source": [
        "** What is the main difference between a tuple and a list? **"
      ],
      "metadata": {
        "id": "TrSx5QsbO72n"
      }
    },
    {
      "cell_type": "markdown",
      "source": [
        "** Create a function that grabs the email website domain from a string in the form: **"
      ],
      "metadata": {
        "id": "vXim3OXkO-a2"
      }
    },
    {
      "cell_type": "code",
      "source": [
        "user@domain.com"
      ],
      "metadata": {
        "id": "-bzTKML7PBI4"
      },
      "execution_count": null,
      "outputs": []
    },
    {
      "cell_type": "markdown",
      "source": [
        "So for example, passing \"user@domain.com\" would return: domain.com"
      ],
      "metadata": {
        "id": "KwZVDoBTPH7E"
      }
    },
    {
      "cell_type": "markdown",
      "source": [
        "[ ]"
      ],
      "metadata": {
        "id": "OBwnRTPhPISG"
      }
    },
    {
      "cell_type": "markdown",
      "source": [
        "domainGet('user@domain.com')"
      ],
      "metadata": {
        "id": "k9et4YinPQ1F"
      }
    },
    {
      "cell_type": "markdown",
      "source": [
        "'domain.com'\n",
        "\n"
      ],
      "metadata": {
        "id": "FT53tIcLPVIE"
      }
    },
    {
      "cell_type": "markdown",
      "source": [
        "** Create a basic function that returns True if the word 'dog' is contained in the input string. Don't worry about edge cases like a punctuation being attached to the word dog, but do account for capitalization. **\n",
        "\n",
        "[ ]"
      ],
      "metadata": {
        "id": "oU6anJlhPXnz"
      }
    },
    {
      "cell_type": "code",
      "source": [
        "findDog('Is there a dog here?')"
      ],
      "metadata": {
        "id": "UBbns4vPPZ9t"
      },
      "execution_count": null,
      "outputs": []
    },
    {
      "cell_type": "markdown",
      "source": [
        "True\n"
      ],
      "metadata": {
        "id": "gMmspjm5Pd-I"
      }
    },
    {
      "cell_type": "markdown",
      "source": [
        "** Create a function that counts the number of times the word \"dog\" occurs in a string. Again ignore edge cases. **"
      ],
      "metadata": {
        "id": "Zt8Ap8ojPiyN"
      }
    },
    {
      "cell_type": "code",
      "source": [
        "countDog('This dog runs faster than the other dog dude!')"
      ],
      "metadata": {
        "id": "eAVM1H7ZPl_8"
      },
      "execution_count": null,
      "outputs": []
    },
    {
      "cell_type": "markdown",
      "source": [
        "2"
      ],
      "metadata": {
        "id": "xCmqK7XKPtv4"
      }
    },
    {
      "cell_type": "markdown",
      "source": [
        "** Use lambda expressions and the filter() function to filter out words from a list that don't start with the letter 's'. For example:**"
      ],
      "metadata": {
        "id": "k81pDduLPw1Q"
      }
    },
    {
      "cell_type": "code",
      "source": [
        "seq = ['soup','dog','salad','cat','great']\n",
        "     "
      ],
      "metadata": {
        "id": "GU2HvEe1PzCb"
      },
      "execution_count": null,
      "outputs": []
    },
    {
      "cell_type": "markdown",
      "source": [
        "should be filtered down to:"
      ],
      "metadata": {
        "id": "F_21B58SP3Zg"
      }
    },
    {
      "cell_type": "code",
      "source": [
        "\n",
        "['soup','salad']"
      ],
      "metadata": {
        "id": "Hi2A8QcXP54R"
      },
      "execution_count": null,
      "outputs": []
    },
    {
      "cell_type": "markdown",
      "source": [
        "\n",
        "seq = ['soup','dog','salad','cat','great']"
      ],
      "metadata": {
        "id": "u_z-QWyoP-0j"
      }
    },
    {
      "cell_type": "markdown",
      "source": [
        "['soup', 'salad']"
      ],
      "metadata": {
        "id": "mbTvrARfP_Ka"
      }
    },
    {
      "cell_type": "markdown",
      "source": [
        "Final Problem\n",
        "You are driving a little too fast, and a police officer stops you. Write a function to return one of 3 possible results: \"No ticket\", \"Small ticket\", or \"Big Ticket\". If your speed is 60 or less, the result is \"No Ticket\". If speed is between 61 and 80 inclusive, the result is \"Small Ticket\". If speed is 81 or more, the result is \"Big Ticket\". Unless it is your birthday (encoded as a boolean value in the parameters of the function) -- on your birthday, your speed can be 5 higher in all cases.\n",
        "\n"
      ],
      "metadata": {
        "id": "Fw3f92_VQBUi"
      }
    },
    {
      "cell_type": "code",
      "source": [
        "def caught_speeding(speed, is_birthday):\n",
        "    pass\n"
      ],
      "metadata": {
        "id": "GZksQ_BFQLkI"
      },
      "execution_count": 90,
      "outputs": []
    },
    {
      "cell_type": "code",
      "source": [
        "\n",
        "caught_speeding(81,True)"
      ],
      "metadata": {
        "id": "r6YW9H0CQOJ6"
      },
      "execution_count": 91,
      "outputs": []
    },
    {
      "cell_type": "markdown",
      "source": [
        "'Small Ticket'"
      ],
      "metadata": {
        "id": "knfrQaSLQV2g"
      }
    },
    {
      "cell_type": "code",
      "source": [
        "caught_speeding(81,False)"
      ],
      "metadata": {
        "id": "qpBy2ggvQYP8"
      },
      "execution_count": null,
      "outputs": []
    },
    {
      "cell_type": "markdown",
      "source": [
        "'Big Ticket'"
      ],
      "metadata": {
        "id": "HjeVXW09QaU0"
      }
    }
  ]
}